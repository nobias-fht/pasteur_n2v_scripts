{
 "cells": [
  {
   "cell_type": "markdown",
   "metadata": {},
   "source": [
    "# Noise2Void - 2D Example for SEM data\n",
    "\n",
    "__Note:__ This notebook expects a trained model and will only work if you have executed the `01_training.ipynb` beforehand."
   ]
  },
  {
   "cell_type": "code",
   "execution_count": null,
   "metadata": {},
   "outputs": [],
   "source": [
    "# We import all our dependencies.\n",
    "from n2v.models import N2V\n",
    "import numpy as np\n",
    "from matplotlib import pyplot as plt\n",
    "from tifffile import imread\n",
    "from csbdeep.io import save_tiff_imagej_compatible"
   ]
  },
  {
   "cell_type": "markdown",
   "metadata": {},
   "source": [
    "## Load the Network"
   ]
  },
  {
   "cell_type": "code",
   "execution_count": null,
   "metadata": {},
   "outputs": [],
   "source": [
    "# A previously trained model is loaded by creating a new N2V-object without providing a 'config'.  \n",
    "model_name = 'n2v_2D'\n",
    "basedir = 'models'\n",
    "model = N2V(config=None, name=model_name, basedir=basedir)"
   ]
  },
  {
   "cell_type": "code",
   "execution_count": null,
   "metadata": {},
   "outputs": [],
   "source": [
    "# In case you do not want to load the weights that lead to lowest validation loss during \n",
    "# training but the latest computed weights, you can execute the following line:\n",
    "\n",
    "# model.load_weights('weights_last.h5')"
   ]
  },
  {
   "cell_type": "markdown",
   "metadata": {},
   "source": [
    "## Prediction\n",
    "Here we will simply use the same data as during training and denoise it using our network."
   ]
  },
  {
   "cell_type": "code",
   "execution_count": null,
   "metadata": {},
   "outputs": [],
   "source": [
    "# We load the data we want to process.\n",
    "input_train = imread('data/train.tif')\n",
    "\n",
    "# Here we process the data.\n",
    "# The parameter 'n_tiles' can be used if images are to big for the GPU memory.\n",
    "# If we do not provide the n_tiles' parameter the system will automatically try to find an appropriate tiling.\n",
    "# This can take longer.\n",
    "pred_train = model.predict(input_train, axes='YX', n_tiles=(2,1))\n",
    "\n",
    "# We load and process the data we previously used for validation.\n",
    "input_val = imread('data/validation.tif')\n",
    "pred_val = model.predict(input_val, axes='YX')"
   ]
  },
  {
   "cell_type": "markdown",
   "metadata": {},
   "source": [
    "### Show results on training data..."
   ]
  },
  {
   "cell_type": "code",
   "execution_count": null,
   "metadata": {},
   "outputs": [],
   "source": [
    "# Let's look at the results.\n",
    "plt.figure(figsize=(16,8))\n",
    "plt.subplot(1,2,1)\n",
    "plt.imshow(input_train[:1500:,:1500],cmap=\"magma\")\n",
    "plt.title('Input');\n",
    "plt.subplot(1,2,2)\n",
    "plt.imshow(pred_train[:1500,:1500],cmap=\"magma\")\n",
    "plt.title('Prediction');"
   ]
  },
  {
   "cell_type": "markdown",
   "metadata": {},
   "source": [
    "### Show results on validation data..."
   ]
  },
  {
   "cell_type": "code",
   "execution_count": null,
   "metadata": {},
   "outputs": [],
   "source": [
    "# Let's look at the results.\n",
    "plt.figure(figsize=(16,8))\n",
    "plt.subplot(1,2,1)\n",
    "plt.imshow(input_val,cmap=\"magma\")\n",
    "plt.title('Input');\n",
    "plt.subplot(1,2,2)\n",
    "plt.imshow(pred_val,cmap=\"magma\")\n",
    "plt.title('Prediction');"
   ]
  },
  {
   "cell_type": "markdown",
   "metadata": {},
   "source": [
    "## Save Results"
   ]
  },
  {
   "cell_type": "code",
   "execution_count": null,
   "metadata": {},
   "outputs": [],
   "source": [
    "save_tiff_imagej_compatible('pred_train.tif', pred_train, axes='YX')\n",
    "save_tiff_imagej_compatible('pred_validation.tif', pred_val, axes='YX')"
   ]
  }
 ],
 "metadata": {
  "kernelspec": {
   "display_name": "Python [conda env:n2v_tf2] *",
   "language": "python",
   "name": "conda-env-n2v_tf2-py"
  },
  "language_info": {
   "codemirror_mode": {
    "name": "ipython",
    "version": 3
   },
   "file_extension": ".py",
   "mimetype": "text/x-python",
   "name": "python",
   "nbconvert_exporter": "python",
   "pygments_lexer": "ipython3",
   "version": "3.7.10"
  }
 },
 "nbformat": 4,
 "nbformat_minor": 2
}
